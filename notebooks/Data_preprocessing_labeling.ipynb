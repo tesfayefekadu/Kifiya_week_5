{
 "cells": [
  {
   "cell_type": "code",
   "execution_count": 1,
   "metadata": {},
   "outputs": [],
   "source": [
    "import pandas as pd # type: ignore\n",
    "import sys\n",
    "import os\n",
    "sys.path.append(os.path.abspath('../scripts'))"
   ]
  },
  {
   "cell_type": "code",
   "execution_count": 2,
   "metadata": {},
   "outputs": [],
   "source": [
    "df=pd.read_csv('C:/Users/teeyob/Amharic_NER_for_E-commerce_Integration/data/telegram_ethio_brand_data.csv')"
   ]
  },
  {
   "cell_type": "code",
   "execution_count": 3,
   "metadata": {},
   "outputs": [
    {
     "name": "stdout",
     "output_type": "stream",
     "text": [
      "Channel Title         0\n",
      "Channel Username      0\n",
      "ID                    0\n",
      "Message              19\n",
      "Size                242\n",
      "Price                98\n",
      "Call                 26\n",
      "Address              25\n",
      "Date                  0\n",
      "Media Path            2\n",
      "dtype: int64\n"
     ]
    }
   ],
   "source": [
    "df.head()\n",
    "null_counts = df.isnull().sum()\n",
    "print(null_counts)"
   ]
  },
  {
   "cell_type": "code",
   "execution_count": 4,
   "metadata": {},
   "outputs": [
    {
     "name": "stdout",
     "output_type": "stream",
     "text": [
      "Channel Title       0\n",
      "Channel Username    0\n",
      "ID                  0\n",
      "Message             0\n",
      "Size                0\n",
      "Price               0\n",
      "Call                0\n",
      "Address             0\n",
      "Date                0\n",
      "Media Path          0\n",
      "dtype: int64\n"
     ]
    }
   ],
   "source": [
    "data=df.fillna(0, inplace=True)\n",
    "null_counts = df.isnull().sum()\n",
    "print(null_counts)"
   ]
  },
  {
   "cell_type": "code",
   "execution_count": 5,
   "metadata": {},
   "outputs": [
    {
     "name": "stdout",
     "output_type": "stream",
     "text": [
      "Labeling completed and saved to C:/Users/teeyob/Amharic_NER_for_E-commerce_Integration/data/labeled_data.conll\n"
     ]
    }
   ],
   "source": [
    "from label import label_entities_in_csv\n",
    "label_entities_in_csv(\n",
    "    'C:/Users/teeyob/Amharic_NER_for_E-commerce_Integration/Scripts/telegram_ethio_brand_data.csv', \n",
    "    'C:/Users/teeyob/Amharic_NER_for_E-commerce_Integration/data/labeled_data.conll'\n",
    ")\n"
   ]
  }
 ],
 "metadata": {
  "kernelspec": {
   "display_name": ".venv",
   "language": "python",
   "name": "python3"
  },
  "language_info": {
   "codemirror_mode": {
    "name": "ipython",
    "version": 3
   },
   "file_extension": ".py",
   "mimetype": "text/x-python",
   "name": "python",
   "nbconvert_exporter": "python",
   "pygments_lexer": "ipython3",
   "version": "3.12.5"
  }
 },
 "nbformat": 4,
 "nbformat_minor": 2
}
